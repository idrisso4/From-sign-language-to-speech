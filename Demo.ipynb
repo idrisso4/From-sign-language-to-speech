{
 "cells": [
  {
   "cell_type": "code",
   "execution_count": 1,
   "id": "forward-harris",
   "metadata": {},
   "outputs": [],
   "source": [
    "from keras.models import load_model\n",
    "model = load_model('model_projet_ia_acc.h5')\n",
    "className = {0:'A', 1:'B', 2:'C', 3:'D', 4:'E', 5:'F', 6:'G',\n",
    "             7:'H', 8:'I', 9:'K', 10:'L', 11:'M', 12:'N',\n",
    "             13:'O', 14:'P', 15:'Q', 16:'R', 17:'S', 18:'T', 19:'U',\n",
    "             20:'V', 21:'W', 22:'X', 23:'Y'}"
   ]
  },
  {
   "cell_type": "code",
   "execution_count": 2,
   "id": "romance-veteran",
   "metadata": {},
   "outputs": [
    {
     "name": "stdout",
     "output_type": "stream",
     "text": [
      "1.0\n"
     ]
    },
    {
     "data": {
      "text/plain": [
       "'Saving Voice to a file'"
      ]
     },
     "execution_count": 2,
     "metadata": {},
     "output_type": "execute_result"
    }
   ],
   "source": [
    "import pyttsx3\n",
    "engine = pyttsx3.init()\n",
    "\n",
    "\"\"\"VOLUME\"\"\"\n",
    "volume = engine.getProperty('volume')   #getting to know current volume level (min=0 and max=1)\n",
    "print (volume)                          #printing current volume level\n",
    "engine.setProperty('volume',1.0)    # setting up volume level  between 0 and 1\n",
    "\n",
    "\"\"\"VOICE\"\"\"\n",
    "voices = engine.getProperty('voices')       #getting details of current voice\n",
    "engine.setProperty('voice', voices[1].id)\n",
    "engine.say(\"Hello World!\")\n",
    "engine.runAndWait()\n",
    "engine.stop()\n",
    "\n",
    "\"\"\"Saving Voice to a file\"\"\"\n",
    "# On linux make sure that 'espeak' and 'ffmpeg' are installed\n",
    "#engine.save_to_file('Hello World', 'test.mp3')\n",
    "#engine.runAndWait()"
   ]
  },
  {
   "cell_type": "code",
   "execution_count": 11,
   "id": "crude-victory",
   "metadata": {},
   "outputs": [
    {
     "name": "stdout",
     "output_type": "stream",
     "text": [
      "Y\n",
      "A\n",
      "A\n",
      "B\n",
      "P\n",
      "P\n",
      "O\n",
      "C\n",
      "C\n",
      "B\n",
      "A\n",
      "H\n",
      "H\n",
      "Y\n",
      "L\n",
      "Escape hit, closing...\n"
     ]
    }
   ],
   "source": [
    "import cv2\n",
    "import numpy as np\n",
    "top, right, bottom, left = 10, 350, 225, 590\n",
    "\n",
    "cam = cv2.VideoCapture(0)\n",
    "\n",
    "img_counter = 0\n",
    "\n",
    "while True:\n",
    "    ret, frame = cam.read()\n",
    "    frame = cv2.flip(frame, 1)\n",
    "    if not ret:\n",
    "        print(\"failed to grab frame\")\n",
    "        break\n",
    "    cv2.rectangle(frame, (10,10), (225,225), (0,255,0), 2)\n",
    "    #hand = frame[top:bottom, right:left]\n",
    "    hand = frame[10:225, 10:225]\n",
    "    hand = cv2.resize(hand, (28, 28))\n",
    "    hand = cv2.cvtColor(hand, cv2.COLOR_BGR2GRAY)\n",
    "    hand= hand/255.0\n",
    "\n",
    "    k = cv2.waitKey(1)\n",
    "    if k%256 == 27:\n",
    "        # ESC pressed\n",
    "        print(\"Escape hit, closing...\")\n",
    "        break\n",
    "    elif k%256 == 32:\n",
    "        # SPACE pressed\n",
    "        img_name = \"opencv_frame_{}.png\".format(img_counter)\n",
    "        #cv2.imwrite(img_name, hand)\n",
    "        #print(\"{} written!\".format(img_name))\n",
    "        img_counter += 1\n",
    "        img = np.reshape(hand,(-1,28,28,1))\n",
    "        p = model.predict(img)\n",
    "        print(className[np.argmax(p)])\n",
    "        word = className[np.argmax(p)]\n",
    "        voices = engine.getProperty('voices')       #getting details of current voice\n",
    "        engine.setProperty('voice', voices[1].id)\n",
    "        engine.say(word)\n",
    "        engine.runAndWait()\n",
    "        engine.stop()\n",
    "    cv2.putText(frame,word,(20,20),cv2.FONT_HERSHEY_SIMPLEX,1,(0,255,0),2, cv2.LINE_AA)\n",
    "    cv2.imshow(\"test\", frame)\n",
    "\n",
    "\n",
    "cam.release()\n",
    "cv2.destroyAllWindows()"
   ]
  },
  {
   "cell_type": "code",
   "execution_count": null,
   "id": "miniature-capability",
   "metadata": {},
   "outputs": [],
   "source": []
  }
 ],
 "metadata": {
  "kernelspec": {
   "display_name": "Python 3",
   "language": "python",
   "name": "python3"
  },
  "language_info": {
   "codemirror_mode": {
    "name": "ipython",
    "version": 3
   },
   "file_extension": ".py",
   "mimetype": "text/x-python",
   "name": "python",
   "nbconvert_exporter": "python",
   "pygments_lexer": "ipython3",
   "version": "3.8.5"
  }
 },
 "nbformat": 4,
 "nbformat_minor": 5
}
